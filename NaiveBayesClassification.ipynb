{
  "nbformat": 4,
  "nbformat_minor": 0,
  "metadata": {
    "colab": {
      "provenance": []
    },
    "kernelspec": {
      "name": "python3",
      "display_name": "Python 3"
    },
    "language_info": {
      "name": "python"
    }
  },
  "cells": [
    {
      "cell_type": "markdown",
      "source": [
        "#Naive Bayes Classification\n",
        "* Naive Bayes models are a group of extremely fast and simple classification algorithms that are often suitable for very high-dimensional datasets."
      ],
      "metadata": {
        "id": "nq2GWfTp3f_w"
      }
    },
    {
      "cell_type": "markdown",
      "source": [
        "**Classifying text**\n",
        "* One place where multinomial naive Bayes is often used is in text classification, where the features are related to word counts or frequencies within the documents to be classified"
      ],
      "metadata": {
        "id": "oeoJcg2cHEwQ"
      }
    },
    {
      "cell_type": "code",
      "execution_count": null,
      "metadata": {
        "colab": {
          "base_uri": "https://localhost:8080/"
        },
        "id": "SOMS0pJJ3dqA",
        "outputId": "13c2cc04-d99e-478f-fbe1-a508b4732d3e"
      },
      "outputs": [
        {
          "output_type": "execute_result",
          "data": {
            "text/plain": [
              "['alt.atheism',\n",
              " 'comp.graphics',\n",
              " 'comp.os.ms-windows.misc',\n",
              " 'comp.sys.ibm.pc.hardware',\n",
              " 'comp.sys.mac.hardware',\n",
              " 'comp.windows.x',\n",
              " 'misc.forsale',\n",
              " 'rec.autos',\n",
              " 'rec.motorcycles',\n",
              " 'rec.sport.baseball',\n",
              " 'rec.sport.hockey',\n",
              " 'sci.crypt',\n",
              " 'sci.electronics',\n",
              " 'sci.med',\n",
              " 'sci.space',\n",
              " 'soc.religion.christian',\n",
              " 'talk.politics.guns',\n",
              " 'talk.politics.mideast',\n",
              " 'talk.politics.misc',\n",
              " 'talk.religion.misc']"
            ]
          },
          "metadata": {},
          "execution_count": 4
        }
      ],
      "source": [
        "import numpy as np\n",
        "import pandas as pd\n",
        "import seaborn as sns\n",
        "import matplotlib.pyplot as plt\n",
        "\n",
        "from sklearn.datasets import fetch_20newsgroups ##This tool gives us a bunch of news articles to work with\n",
        "\n",
        "data = fetch_20newsgroups()\n",
        "data.target_names #This shows us the names of those topics from newsgroup"
      ]
    },
    {
      "cell_type": "markdown",
      "source": [
        "* Here, we have considered just a few categories"
      ],
      "metadata": {
        "id": "J-qByJYuH97n"
      }
    },
    {
      "cell_type": "code",
      "source": [
        "categories = ['talk.religion.misc','soc.religion.christian','sci.space','rec.sport.baseball','comp.graphics']\n",
        "train = fetch_20newsgroups(subset='train', categories=categories)\n",
        "test = fetch_20newsgroups(subset='test',categories=categories)"
      ],
      "metadata": {
        "id": "Y4d_aW8mH57c"
      },
      "execution_count": null,
      "outputs": []
    },
    {
      "cell_type": "code",
      "source": [
        "print(train.data[5])"
      ],
      "metadata": {
        "colab": {
          "base_uri": "https://localhost:8080/"
        },
        "collapsed": true,
        "id": "e9O5b_w7JJN5",
        "outputId": "070f9311-df61-4740-8795-aee806aac95d"
      },
      "execution_count": null,
      "outputs": [
        {
          "output_type": "stream",
          "name": "stdout",
          "text": [
            "From: jgreen@trumpet.calpoly.edu (James Thomas Green)\n",
            "Subject: Keeping Spacecraft on after Funding Cuts.\n",
            "Organization: California Polytechnic State University, San Luis Obispo\n",
            "Lines: 51\n",
            "\n",
            "Why do spacecraft have to be shut off after funding cuts.  For\n",
            "example, Why couldn't Magellan just be told to go into a \"safe\"\n",
            "mode and stay bobbing about Venus in a low-power-use mode and if\n",
            "maybe in a few years if funding gets restored after the economy\n",
            "gets better (hopefully), it could be turned on again.  \n",
            "\n",
            "For that matter, why exactly were the Apollo lunar experiments\n",
            "\"turned off\" rather than just \"safed\".  Was it political (i.e.\n",
            "as along as they could be used, someone would keep bugging\n",
            "congress for funds)?  Turning them off keeps them pesky\n",
            "scientists out of the bureaucrat's hair....  \n",
            "\n",
            "I've heard the argument that an active but \"uncontrolled\"\n",
            "spacecraft causes \"radio noise.\"  I find that hard to believe\n",
            "that this could be a problem in a properly designed \"safe\" mode.\n",
            "This safe mode could be a program routine which causes the\n",
            "spacecraft to go to least fuel using orientation, and once a\n",
            "(week, month, year, whatever) attempts a signal lock on Earth.\n",
            "At that time, if funding has been restored, the mission can\n",
            "continue.  If no signal is recieved, the spacecraft goes back to\n",
            "the safe mode for another time period. As we would know when the\n",
            "spacecraft is going to try to contact Earth, we could be\n",
            "prepared if necessary.  \n",
            "\n",
            "As another a spacecraft could do at the attempted contact is\n",
            "beam stored data towards Earth.  If someone can receive it,\n",
            "great, if not, so it's lost and no big deal.\n",
            "By making the time and signal location generally known, perhaps\n",
            "someone in the world might be able and willing to intercept the\n",
            "data even if they're not willing to contact the spacecraft.\n",
            "\n",
            "I see this as being particularly useful for spacecraft which\n",
            "could have an otherwise long life and are in or are going to\n",
            "places which are otherwise unaccessible (Jupiter/Saturn Orbit,\n",
            "exiting the solar system, etc).   \n",
            "\n",
            "Perhaps those designing future spacecraft (Cassini, Pluto Flyby,\n",
            "etc) should consider designing in a \"pause\" mode in case their\n",
            "spacecraft gets the ax sometime in the future after completion of\n",
            "the primary mission. Perhaps Mars Observer and Galilleo could\n",
            "have some kind of routine written in for the post mission\n",
            "\"drift\" phase.\n",
            "\n",
            "So any holes in all this?\n",
            "\n",
            "\n",
            "/~~~(-: James T. Green :-)~~~~(-: jgreen@oboe.calpoly.edu :-)~~~\\ \n",
            "| \"I believe that this nation should commit itself to achieving\t| \n",
            "| the goal, before this decade is out, of landing a man on the \t|\n",
            "| Moon and returning him safely to the Earth.\"    \t\t|\n",
            "|                  <John F. Kennedy; May 25, 1961> \t\t|\n",
            "\n"
          ]
        }
      ]
    },
    {
      "cell_type": "markdown",
      "source": [
        "In order to use this data for machine learning, we need to be able to convert the content of each string into a vector of numbers. For this we will use the TF-IDF vectorizer, and create a pipeline that attaches it to a multinomial naive Bayes classifier:"
      ],
      "metadata": {
        "id": "DLWzM_1CJRSB"
      }
    },
    {
      "cell_type": "code",
      "source": [
        "from sklearn.feature_extraction.text import TfidfVectorizer #takes the words in the articles and turns them into numbers\n",
        "from sklearn.naive_bayes import MultinomialNB  # It will learn from the training articles and try to guess the topic of new ones\n",
        "from sklearn.pipeline import make_pipeline  #This connects the two steps (turning words into numbers and making guesses) so they work together easily.\n",
        "\n",
        "model = make_pipeline(TfidfVectorizer(), MultinomialNB())\n",
        "#with this pipeline, we can apply the model to training data and predict labels for test data"
      ],
      "metadata": {
        "id": "M3QpBphEJJBH"
      },
      "execution_count": null,
      "outputs": []
    },
    {
      "cell_type": "code",
      "source": [
        "model.fit(train.data, train.target)\n",
        "labels = model.predict(test.data)\n"
      ],
      "metadata": {
        "id": "cWoX4UCzJI6o"
      },
      "execution_count": null,
      "outputs": []
    },
    {
      "cell_type": "markdown",
      "source": [
        " we have predicted the labels for the test data, we can evaluate them to learn about the performance of the estimator. For example, here is the confusion matrix between the true and predicted labels for the test data:"
      ],
      "metadata": {
        "id": "669015WmLwtf"
      }
    },
    {
      "cell_type": "code",
      "source": [
        "\n",
        "from sklearn.metrics import confusion_matrix\n",
        "mat = confusion_matrix(test.target, labels)\n",
        "sns.heatmap(mat.T, square=True, annot =True, fmt='d', cbar=False, xticklabels=train.target_names, yticklabels=train.target_names) #Fixed typo in 'xticklabels'\n",
        "plt.xlabel('true label')\n",
        "plt.ylabel('predicted label')"
      ],
      "metadata": {
        "colab": {
          "base_uri": "https://localhost:8080/",
          "height": 596
        },
        "id": "EedA6ECJJIxA",
        "outputId": "e4cc1ca1-e9f2-42ff-dea4-96e6e6be34f5"
      },
      "execution_count": null,
      "outputs": [
        {
          "output_type": "execute_result",
          "data": {
            "text/plain": [
              "Text(113.92222222222219, 0.5, 'predicted label')"
            ]
          },
          "metadata": {},
          "execution_count": 13
        },
        {
          "output_type": "display_data",
          "data": {
            "text/plain": [
              "<Figure size 640x480 with 1 Axes>"
            ],
            "image/png": "[encoded data removed]"
          },
          "metadata": {}
        }
      ]
    },
    {
      "cell_type": "markdown",
      "source": [
        "This very simple classifier can successfully separate space talk from computer talk, but it gets confused between talk about religion and talk about Christianity. This is perhaps an expected area of confusion"
      ],
      "metadata": {
        "id": "T5gWz7unNksU"
      }
    },
    {
      "cell_type": "code",
      "source": [
        "def predict_category(s, train=train, model=model):\n",
        "    pred = model.predict([s])\n",
        "    return train.target_names[pred[0]]"
      ],
      "metadata": {
        "id": "-RpnCuD0JIor"
      },
      "execution_count": null,
      "outputs": []
    },
    {
      "cell_type": "code",
      "source": [
        "predict_category('sending a payload to the ISS')"
      ],
      "metadata": {
        "colab": {
          "base_uri": "https://localhost:8080/",
          "height": 35
        },
        "id": "s_xLsmbONrnQ",
        "outputId": "901d4dbb-e1ca-441e-f36f-6567cdc06204"
      },
      "execution_count": null,
      "outputs": [
        {
          "output_type": "execute_result",
          "data": {
            "text/plain": [
              "'sci.space'"
            ],
            "application/vnd.google.colaboratory.intrinsic+json": {
              "type": "string"
            }
          },
          "metadata": {},
          "execution_count": 15
        }
      ]
    },
    {
      "cell_type": "code",
      "source": [
        "predict_category('discussing islam vs atheism')"
      ],
      "metadata": {
        "colab": {
          "base_uri": "https://localhost:8080/",
          "height": 35
        },
        "id": "ADbMD4_VNrj4",
        "outputId": "8765e240-6c1b-47b4-83a8-6f75d1b9c02f"
      },
      "execution_count": null,
      "outputs": [
        {
          "output_type": "execute_result",
          "data": {
            "text/plain": [
              "'soc.religion.christian'"
            ],
            "application/vnd.google.colaboratory.intrinsic+json": {
              "type": "string"
            }
          },
          "metadata": {},
          "execution_count": 16
        }
      ]
    },
    {
      "cell_type": "code",
      "source": [
        "predict_category('determining the screen resolution')"
      ],
      "metadata": {
        "colab": {
          "base_uri": "https://localhost:8080/",
          "height": 35
        },
        "id": "5tHaBBmgNrhw",
        "outputId": "24c2b33c-a533-4f3d-acb5-f3ac6f2818e2"
      },
      "execution_count": null,
      "outputs": [
        {
          "output_type": "execute_result",
          "data": {
            "text/plain": [
              "'comp.graphics'"
            ],
            "application/vnd.google.colaboratory.intrinsic+json": {
              "type": "string"
            }
          },
          "metadata": {},
          "execution_count": 17
        }
      ]
    },
    {
      "cell_type": "markdown",
      "source": [
        "**Summary**\n",
        "* This code teaches a computer model to read and understand text (like news articles) and then guess what the text is about (e.g., religion, space, sports). It learns from examples, gets tested on new examples, and can even make guesses on completely new sentences you give it!"
      ],
      "metadata": {
        "id": "no5wxrEFREZp"
      }
    },
    {
      "cell_type": "markdown",
      "source": [
        "#Naive Bayes classifiers tend to perform especially well in one of the following situations:\n",
        "\n",
        "- When the naive assumptions actually match the data (very rare in practice).\n",
        "- For very well-separated categories, when model complexity is less important.\n",
        "- For very high-dimensional data, when model complexity is less important."
      ],
      "metadata": {
        "id": "A277yjquN-sK"
      }
    }
  ]
}